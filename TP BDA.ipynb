{
 "cells": [
  {
   "cell_type": "code",
   "execution_count": 1,
   "id": "3781614b",
   "metadata": {},
   "outputs": [
    {
     "name": "stdout",
     "output_type": "stream",
     "text": [
      "Requirement already satisfied: cx_Oracle in c:\\users\\pc\\anaconda3\\lib\\site-packages (8.3.0)\n"
     ]
    }
   ],
   "source": [
    "!pip install cx_Oracle  #l’intégration du SGBD dans cet outil"
   ]
  },
  {
   "cell_type": "markdown",
   "id": "a5533f8f",
   "metadata": {},
   "source": [
    "cx_Oracle est un module d'extension Python qui permet à Python d'accéder à la base de données Oracle. Il est conforme à la spécification Python Database API v2.0"
   ]
  },
  {
   "cell_type": "code",
   "execution_count": 4,
   "id": "55ae08cf",
   "metadata": {},
   "outputs": [],
   "source": [
    "import cx_Oracle"
   ]
  },
  {
   "cell_type": "markdown",
   "id": "1f3d463a",
   "metadata": {},
   "source": [
    "Établir la connexion à la base de données"
   ]
  },
  {
   "cell_type": "code",
   "execution_count": 5,
   "id": "5b4c46ad",
   "metadata": {},
   "outputs": [],
   "source": [
    "dsn_tns = cx_Oracle.makedsn('PC', '1521', service_name='XE') \n",
    "conn = cx_Oracle.connect(user='aya', password='aya', dsn=dsn_tns) \n",
    "\n",
    "command_handler = conn.cursor()\n"
   ]
  },
  {
   "cell_type": "markdown",
   "id": "abbb8230",
   "metadata": {},
   "source": [
    "A cursor is an object which helps to execute the query and fetch the records from the database."
   ]
  },
  {
   "cell_type": "markdown",
   "id": "a7c7bf7b",
   "metadata": {},
   "source": [
    "cree le tableau persons"
   ]
  },
  {
   "cell_type": "code",
   "execution_count": 8,
   "id": "2aa1a632",
   "metadata": {},
   "outputs": [],
   "source": [
    "try:\n",
    "    command_handler.execute(\"CREATE TABLE persons( person_id NUMBER , first_name VARCHAR2(50) NOT NULL, last_name VARCHAR2(50) NOT NULL, moy NUMBER NOT NULL, PRIMARY KEY(person_id))\")\n",
    "except Exception as e:\n",
    "    print(\"Could not create table\")\n",
    "    print(e)\n"
   ]
  },
  {
   "cell_type": "code",
   "execution_count": 7,
   "id": "8c8ab7a7",
   "metadata": {},
   "outputs": [],
   "source": [
    "command_handler.execute(\"DROP TABLE persons\")"
   ]
  },
  {
   "cell_type": "markdown",
   "id": "2c6d533e",
   "metadata": {},
   "source": [
    "inserer un enregisterement dans le tableau persons "
   ]
  },
  {
   "cell_type": "code",
   "execution_count": 9,
   "id": "58ce5620",
   "metadata": {},
   "outputs": [],
   "source": [
    "try:\n",
    "    command_handler.execute(\"insert into persons values ( 1 , 'aya', 'soualeh mohamed' , 18 )\")\n",
    "except Exception as e:\n",
    "    print(\"Could not add a line\")\n",
    "    print(e)\n"
   ]
  },
  {
   "cell_type": "markdown",
   "id": "5f402b23",
   "metadata": {},
   "source": [
    "inserer plusieur enregistrements a la fois dans le tableau persons "
   ]
  },
  {
   "cell_type": "code",
   "execution_count": 10,
   "id": "65b29f8c",
   "metadata": {},
   "outputs": [],
   "source": [
    "query = \"INSERT INTO persons VALUES (:1, :2, :3 , :4)\"\n",
    "query_vals = [\n",
    "( 2 , \"maissa\",\"mati\" , 18),\n",
    "( 3 , \"amina\",\"mokdad\" , 17),\n",
    "( 4 , \"maissa\",\"boukaf\" , 17)\n",
    "]\n",
    "command_handler.executemany(query,query_vals) "
   ]
  },
  {
   "cell_type": "markdown",
   "id": "8aacc29e",
   "metadata": {},
   "source": [
    "afficher le contenu de tabeau persons "
   ]
  },
  {
   "cell_type": "code",
   "execution_count": 11,
   "id": "afb75ed3",
   "metadata": {},
   "outputs": [
    {
     "name": "stdout",
     "output_type": "stream",
     "text": [
      "(1, 'aya', 'soualeh mohamed', 18)\n",
      "(2, 'maissa', 'mati', 18)\n",
      "(3, 'amina', 'mokdad', 17)\n",
      "(4, 'maissa', 'boukaf', 17)\n"
     ]
    }
   ],
   "source": [
    "command_handler.execute(\"SELECT * From persons\")\n",
    "while True:\n",
    "                # fetch rows\n",
    "                rows = command_handler.fetchmany()\n",
    "                if not rows:\n",
    "                    break\n",
    "                # display rows\n",
    "                for row in rows:\n",
    "                    print(row)"
   ]
  },
  {
   "cell_type": "code",
   "execution_count": 22,
   "id": "ae5fc774",
   "metadata": {},
   "outputs": [],
   "source": [
    "#command_handler.execute(\"DELETE FROM persons WHERE person_id = 1\")\n"
   ]
  },
  {
   "cell_type": "code",
   "execution_count": 12,
   "id": "6fc30f1f",
   "metadata": {},
   "outputs": [
    {
     "name": "stdout",
     "output_type": "stream",
     "text": [
      "('soualeh mohamed',)\n",
      "('mati',)\n",
      "('mokdad',)\n",
      "('boukaf',)\n"
     ]
    }
   ],
   "source": [
    "command_handler.execute(\"SELECT last_name From persons\")\n",
    "while True:\n",
    "                # fetch rows\n",
    "                rows = command_handler.fetchmany()\n",
    "                if not rows:\n",
    "                    break\n",
    "                # display rows\n",
    "                for row in rows:\n",
    "                    print(row)"
   ]
  },
  {
   "cell_type": "markdown",
   "id": "f4e89a30",
   "metadata": {},
   "source": [
    "l'affichage des donnees a l'aide de pandas "
   ]
  },
  {
   "cell_type": "code",
   "execution_count": 30,
   "id": "8663f31b",
   "metadata": {},
   "outputs": [],
   "source": [
    "import pandas as pd"
   ]
  },
  {
   "cell_type": "code",
   "execution_count": 31,
   "id": "c79f86a5",
   "metadata": {},
   "outputs": [
    {
     "data": {
      "text/html": [
       "<div>\n",
       "<style scoped>\n",
       "    .dataframe tbody tr th:only-of-type {\n",
       "        vertical-align: middle;\n",
       "    }\n",
       "\n",
       "    .dataframe tbody tr th {\n",
       "        vertical-align: top;\n",
       "    }\n",
       "\n",
       "    .dataframe thead th {\n",
       "        text-align: right;\n",
       "    }\n",
       "</style>\n",
       "<table border=\"1\" class=\"dataframe\">\n",
       "  <thead>\n",
       "    <tr style=\"text-align: right;\">\n",
       "      <th></th>\n",
       "      <th>PERSON_ID</th>\n",
       "      <th>FIRST_NAME</th>\n",
       "      <th>LAST_NAME</th>\n",
       "      <th>MOY</th>\n",
       "    </tr>\n",
       "  </thead>\n",
       "  <tbody>\n",
       "    <tr>\n",
       "      <th>0</th>\n",
       "      <td>1</td>\n",
       "      <td>aya</td>\n",
       "      <td>soualeh mohamed</td>\n",
       "      <td>18</td>\n",
       "    </tr>\n",
       "    <tr>\n",
       "      <th>1</th>\n",
       "      <td>2</td>\n",
       "      <td>maissa</td>\n",
       "      <td>mati</td>\n",
       "      <td>18</td>\n",
       "    </tr>\n",
       "    <tr>\n",
       "      <th>2</th>\n",
       "      <td>3</td>\n",
       "      <td>amina</td>\n",
       "      <td>mokdad</td>\n",
       "      <td>17</td>\n",
       "    </tr>\n",
       "    <tr>\n",
       "      <th>3</th>\n",
       "      <td>4</td>\n",
       "      <td>maissa</td>\n",
       "      <td>boukaf</td>\n",
       "      <td>17</td>\n",
       "    </tr>\n",
       "  </tbody>\n",
       "</table>\n",
       "</div>"
      ],
      "text/plain": [
       "   PERSON_ID FIRST_NAME        LAST_NAME  MOY\n",
       "0          1        aya  soualeh mohamed   18\n",
       "1          2     maissa             mati   18\n",
       "2          3      amina           mokdad   17\n",
       "3          4     maissa           boukaf   17"
      ]
     },
     "execution_count": 31,
     "metadata": {},
     "output_type": "execute_result"
    }
   ],
   "source": [
    "# query Oracle using ora_conn and put the result into a pandas Dataframe\n",
    "df_ora = pd.read_sql('select * from persons', con=conn)    \n",
    "df_ora"
   ]
  },
  {
   "cell_type": "code",
   "execution_count": 11,
   "id": "a528f39f",
   "metadata": {},
   "outputs": [
    {
     "data": {
      "text/html": [
       "<div>\n",
       "<style scoped>\n",
       "    .dataframe tbody tr th:only-of-type {\n",
       "        vertical-align: middle;\n",
       "    }\n",
       "\n",
       "    .dataframe tbody tr th {\n",
       "        vertical-align: top;\n",
       "    }\n",
       "\n",
       "    .dataframe thead th {\n",
       "        text-align: right;\n",
       "    }\n",
       "</style>\n",
       "<table border=\"1\" class=\"dataframe\">\n",
       "  <thead>\n",
       "    <tr style=\"text-align: right;\">\n",
       "      <th></th>\n",
       "      <th>PERSON_ID</th>\n",
       "      <th>FIRST_NAME</th>\n",
       "      <th>LAST_NAME</th>\n",
       "      <th>MOY</th>\n",
       "    </tr>\n",
       "  </thead>\n",
       "  <tbody>\n",
       "    <tr>\n",
       "      <th>0</th>\n",
       "      <td>3</td>\n",
       "      <td>amina</td>\n",
       "      <td>mokdad</td>\n",
       "      <td>17</td>\n",
       "    </tr>\n",
       "  </tbody>\n",
       "</table>\n",
       "</div>"
      ],
      "text/plain": [
       "   PERSON_ID FIRST_NAME LAST_NAME  MOY\n",
       "0          3      amina    mokdad   17"
      ]
     },
     "execution_count": 11,
     "metadata": {},
     "output_type": "execute_result"
    }
   ],
   "source": [
    "df_ora = pd.read_sql('select * from persons where person_id=:myid', params={\"myid\":3}, con=conn) \n",
    "df_ora"
   ]
  },
  {
   "cell_type": "markdown",
   "id": "464c1d93",
   "metadata": {},
   "source": [
    " visualization "
   ]
  },
  {
   "cell_type": "code",
   "execution_count": 33,
   "id": "149b5099",
   "metadata": {},
   "outputs": [],
   "source": [
    "import matplotlib.pyplot as plt \n",
    "plt.style.use('seaborn-darkgrid')"
   ]
  },
  {
   "cell_type": "code",
   "execution_count": 35,
   "id": "9839b1ed",
   "metadata": {},
   "outputs": [],
   "source": [
    "df_ora = pd.read_sql('select last_name \"Name\", moy \"moyen\" from persons', con=conn)    \n",
    "\n",
    "conn.close()"
   ]
  },
  {
   "cell_type": "code",
   "execution_count": 36,
   "id": "2a75cb0e",
   "metadata": {},
   "outputs": [
    {
     "data": {
      "image/png": "[encoded data removed]",
      "text/plain": [
       "<Figure size 720x432 with 1 Axes>"
      ]
     },
     "metadata": {},
     "output_type": "display_data"
    }
   ],
   "source": [
    "df_ora.plot(x='Name', y='moyen', title='les moyennes par les etudients ', figsize=(10, 6), kind='bar', color='blue');"
   ]
  }
 ],
 "metadata": {
  "kernelspec": {
   "display_name": "Python 3 (ipykernel)",
   "language": "python",
   "name": "python3"
  },
  "language_info": {
   "codemirror_mode": {
    "name": "ipython",
    "version": 3
   },
   "file_extension": ".py",
   "mimetype": "text/x-python",
   "name": "python",
   "nbconvert_exporter": "python",
   "pygments_lexer": "ipython3",
   "version": "3.9.7"
  }
 },
 "nbformat": 4,
 "nbformat_minor": 5
}
